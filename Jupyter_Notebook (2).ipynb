{
 "cells": [
  {
   "cell_type": "markdown",
   "metadata": {},
   "source": [
    "<center>\n",
    "    <img src=\"https://cf-courses-data.s3.us.cloud-object-storage.appdomain.cloud/IBMDeveloperSkillsNetwork-DS0105EN-SkillsNetwork/labs/Module2/images/SN_web_lightmode.png\" width=\"300\" alt=\"cognitiveclass.ai logo\">\n",
    "</center>\n"
   ]
  },
  {
   "cell_type": "markdown",
   "metadata": {},
   "source": [
    "#### Add your code below following the instructions given in the course\n"
   ]
  },
  {
   "cell_type": "markdown",
   "metadata": {},
   "source": [
    "<h1>\"My Jupyter Notebook on IBM Watson Studio\"</h1>"
   ]
  },
  {
   "cell_type": "markdown",
   "metadata": {},
   "source": [
    "**Heet Bhatt**                                                                                                                                       \n",
    "Data Scientist"
   ]
  },
  {
   "cell_type": "markdown",
   "metadata": {},
   "source": [
    "*I am interested in data science because I want to contribute something for building the business of whichever company I work for. With the help of  data science I can increase the profit, selling of company. With machine learning models we can predict some future aspects of our company. So the major motivation behind this course is to enhance our company's business*"
   ]
  },
  {
   "cell_type": "markdown",
   "metadata": {},
   "source": [
    "<h3>Below code is doing simple multiplication of two numbers</h3>"
   ]
  },
  {
   "cell_type": "code",
   "execution_count": 2,
   "metadata": {},
   "outputs": [
    {
     "name": "stdout",
     "output_type": "stream",
     "text": [
      "30\n"
     ]
    }
   ],
   "source": [
    "a=5\n",
    "b=6\n",
    "c=a*b\n",
    "print(c)"
   ]
  },
  {
   "cell_type": "markdown",
   "metadata": {},
   "source": [
    "<p>Bulleted list<p>\n",
    "<ul>\n",
    "    <li>item1</li>\n",
    "    <li>item2</li>\n",
    "    <li>item3</li>\n",
    "    <li>item4</li>\n",
    "</ul>\n",
    "<hr>\n",
    "<p>Numbered list<p>\n",
    "<ol>\n",
    "    <li>item1</li>\n",
    "    <li>item2</li>\n",
    "    <li>item3</li>\n",
    "    <li>item4</li>\n",
    "</ol>\n",
    "<hr>\n",
    "<p>hyperlink</p>\n",
    "<a href=\"https://www.google.com/\">Google</a>\n",
    "<hr>\n",
    "<p>table</p>\n",
    "<table align='left'>\n",
    "    <tr>\n",
    "        <th>name</th>\n",
    "        <th>number</th>\n",
    "    </tr>\n",
    "     <tr>\n",
    "        <td>ramesh</td>\n",
    "        <td>90</td>\n",
    "    </tr>\n",
    "     <tr>\n",
    "        <td>param</td>\n",
    "        <td>88</td>\n",
    "    </tr>\n",
    "</table>"
   ]
  },
  {
   "cell_type": "code",
   "execution_count": null,
   "metadata": {},
   "outputs": [],
   "source": []
  }
 ],
 "metadata": {
  "kernelspec": {
   "display_name": "Python",
   "language": "python",
   "name": "conda-env-python-py"
  },
  "language_info": {
   "codemirror_mode": {
    "name": "ipython",
    "version": 3
   },
   "file_extension": ".py",
   "mimetype": "text/x-python",
   "name": "python",
   "nbconvert_exporter": "python",
   "pygments_lexer": "ipython3",
   "version": "3.7.12"
  }
 },
 "nbformat": 4,
 "nbformat_minor": 4
}
